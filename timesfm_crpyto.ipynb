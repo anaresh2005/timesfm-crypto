{
 "cells": [
  {
   "cell_type": "code",
   "execution_count": 1,
   "id": "9b29beb7-10b2-4d44-b3be-6c81523406e6",
   "metadata": {},
   "outputs": [],
   "source": [
    "# Imports dependencies\n",
    "import torch\n",
    "import pandas as pd\n",
    "import numpy as np\n",
    "import matplotlib.pyplot as plt\n",
    "import yfinance as yf \n",
    "from sklearn.preprocessing import MinMaxScaler"
   ]
  },
  {
   "cell_type": "code",
   "execution_count": 2,
   "id": "289280e0-a601-4a21-9e24-989ddf70b335",
   "metadata": {},
   "outputs": [
    {
     "name": "stdout",
     "output_type": "stream",
     "text": [
      " See https://github.com/google-research/timesfm/blob/master/README.md for updated APIs.\n",
      "Loaded PyTorch TimesFM, likely because python version is 3.11.11 (main, Mar  7 2025, 10:33:09) [Clang 16.0.0 (clang-1600.0.26.6)].\n"
     ]
    }
   ],
   "source": [
    "# Importing the timesfm model (CPU version)\n",
    "import timesfm"
   ]
  },
  {
   "cell_type": "code",
   "execution_count": 3,
   "id": "72561835-9fc5-4ebd-8f6a-c8dfdbd8d79a",
   "metadata": {},
   "outputs": [
    {
     "data": {
      "application/vnd.jupyter.widget-view+json": {
       "model_id": "ff2df9edbf8e4c5ea24c2044bdabff66",
       "version_major": 2,
       "version_minor": 0
      },
      "text/plain": [
       "Fetching 3 files:   0%|          | 0/3 [00:00<?, ?it/s]"
      ]
     },
     "metadata": {},
     "output_type": "display_data"
    },
    {
     "data": {
      "application/vnd.jupyter.widget-view+json": {
       "model_id": "f12ef117c871445b9f2c2cc656001c73",
       "version_major": 2,
       "version_minor": 0
      },
      "text/plain": [
       ".gitattributes:   0%|          | 0.00/1.52k [00:00<?, ?B/s]"
      ]
     },
     "metadata": {},
     "output_type": "display_data"
    },
    {
     "data": {
      "application/vnd.jupyter.widget-view+json": {
       "model_id": "0cc8484ff22e49d7a0d9a54efa4b0a0d",
       "version_major": 2,
       "version_minor": 0
      },
      "text/plain": [
       "README.md:   0%|          | 0.00/5.58k [00:00<?, ?B/s]"
      ]
     },
     "metadata": {},
     "output_type": "display_data"
    },
    {
     "data": {
      "application/vnd.jupyter.widget-view+json": {
       "model_id": "16e64b7d3baf415da05ed09701242841",
       "version_major": 2,
       "version_minor": 0
      },
      "text/plain": [
       "torch_model.ckpt:   0%|          | 0.00/814M [00:00<?, ?B/s]"
      ]
     },
     "metadata": {},
     "output_type": "display_data"
    }
   ],
   "source": [
    "# Importing in the 200m parameter\n",
    "tfm_one = timesfm.TimesFm(\n",
    "      hparams=timesfm.TimesFmHparams(\n",
    "          backend=\"cpu\",\n",
    "          per_core_batch_size=32,\n",
    "          horizon_len=128,\n",
    "      ),\n",
    "      checkpoint=timesfm.TimesFmCheckpoint(\n",
    "          huggingface_repo_id=\"google/timesfm-1.0-200m-pytorch\"),\n",
    "  )"
   ]
  },
  {
   "cell_type": "code",
   "execution_count": 4,
   "id": "53d079d3-c43e-4e48-ac25-d0708fabe418",
   "metadata": {},
   "outputs": [
    {
     "data": {
      "application/vnd.jupyter.widget-view+json": {
       "model_id": "ae735a47b470454da682a3577a39c328",
       "version_major": 2,
       "version_minor": 0
      },
      "text/plain": [
       "Fetching 5 files:   0%|          | 0/5 [00:00<?, ?it/s]"
      ]
     },
     "metadata": {},
     "output_type": "display_data"
    }
   ],
   "source": [
    "# Importing in the 500m parameter\n",
    "tfm_two = timesfm.TimesFm(\n",
    "      hparams=timesfm.TimesFmHparams(\n",
    "          backend=\"cpu\",\n",
    "          per_core_batch_size=32,\n",
    "          horizon_len=128,\n",
    "          num_layers=50,\n",
    "          use_positional_embedding=False,\n",
    "          context_len=2048,\n",
    "      ),\n",
    "      checkpoint=timesfm.TimesFmCheckpoint(\n",
    "          huggingface_repo_id=\"google/timesfm-2.0-500m-pytorch\"),\n",
    "  )"
   ]
  },
  {
   "cell_type": "code",
   "execution_count": 20,
   "id": "99c04f8e-adf7-4f72-a10c-3fc0c32a81c5",
   "metadata": {},
   "outputs": [
    {
     "name": "stderr",
     "output_type": "stream",
     "text": [
      "[*********************100%***********************]  1 of 1 completed\n"
     ]
    }
   ],
   "source": [
    "# Download BTC-USD data\n",
    "btc = yf.download('BTC-USD', start='2022-01-01', end='2024-03-01')\n",
    "\n",
    "# Save the closing price data to a CSV\n",
    "btc[['Close']].to_csv(\"bitcoin_prices.csv\")\n",
    "btc_close = btc[['Close']].copy()"
   ]
  },
  {
   "cell_type": "code",
   "execution_count": 21,
   "id": "a3377376-bb72-480d-bddb-aa5d5711e115",
   "metadata": {},
   "outputs": [
    {
     "data": {
      "text/html": [
       "<div>\n",
       "<style scoped>\n",
       "    .dataframe tbody tr th:only-of-type {\n",
       "        vertical-align: middle;\n",
       "    }\n",
       "\n",
       "    .dataframe tbody tr th {\n",
       "        vertical-align: top;\n",
       "    }\n",
       "\n",
       "    .dataframe thead tr th {\n",
       "        text-align: left;\n",
       "    }\n",
       "\n",
       "    .dataframe thead tr:last-of-type th {\n",
       "        text-align: right;\n",
       "    }\n",
       "</style>\n",
       "<table border=\"1\" class=\"dataframe\">\n",
       "  <thead>\n",
       "    <tr>\n",
       "      <th>Price</th>\n",
       "      <th>Close</th>\n",
       "      <th>High</th>\n",
       "      <th>Low</th>\n",
       "      <th>Open</th>\n",
       "      <th>Volume</th>\n",
       "    </tr>\n",
       "    <tr>\n",
       "      <th>Ticker</th>\n",
       "      <th>BTC-USD</th>\n",
       "      <th>BTC-USD</th>\n",
       "      <th>BTC-USD</th>\n",
       "      <th>BTC-USD</th>\n",
       "      <th>BTC-USD</th>\n",
       "    </tr>\n",
       "    <tr>\n",
       "      <th>Date</th>\n",
       "      <th></th>\n",
       "      <th></th>\n",
       "      <th></th>\n",
       "      <th></th>\n",
       "      <th></th>\n",
       "    </tr>\n",
       "  </thead>\n",
       "  <tbody>\n",
       "    <tr>\n",
       "      <th>2022-01-01</th>\n",
       "      <td>47686.812500</td>\n",
       "      <td>47827.312500</td>\n",
       "      <td>46288.484375</td>\n",
       "      <td>46311.746094</td>\n",
       "      <td>24582667004</td>\n",
       "    </tr>\n",
       "    <tr>\n",
       "      <th>2022-01-02</th>\n",
       "      <td>47345.218750</td>\n",
       "      <td>47881.406250</td>\n",
       "      <td>46856.937500</td>\n",
       "      <td>47680.925781</td>\n",
       "      <td>27951569547</td>\n",
       "    </tr>\n",
       "    <tr>\n",
       "      <th>2022-01-03</th>\n",
       "      <td>46458.117188</td>\n",
       "      <td>47510.726562</td>\n",
       "      <td>45835.964844</td>\n",
       "      <td>47343.542969</td>\n",
       "      <td>33071628362</td>\n",
       "    </tr>\n",
       "    <tr>\n",
       "      <th>2022-01-04</th>\n",
       "      <td>45897.574219</td>\n",
       "      <td>47406.546875</td>\n",
       "      <td>45752.464844</td>\n",
       "      <td>46458.851562</td>\n",
       "      <td>42494677905</td>\n",
       "    </tr>\n",
       "    <tr>\n",
       "      <th>2022-01-05</th>\n",
       "      <td>43569.003906</td>\n",
       "      <td>46929.046875</td>\n",
       "      <td>42798.222656</td>\n",
       "      <td>45899.359375</td>\n",
       "      <td>36851084859</td>\n",
       "    </tr>\n",
       "  </tbody>\n",
       "</table>\n",
       "</div>"
      ],
      "text/plain": [
       "Price              Close          High           Low          Open  \\\n",
       "Ticker           BTC-USD       BTC-USD       BTC-USD       BTC-USD   \n",
       "Date                                                                 \n",
       "2022-01-01  47686.812500  47827.312500  46288.484375  46311.746094   \n",
       "2022-01-02  47345.218750  47881.406250  46856.937500  47680.925781   \n",
       "2022-01-03  46458.117188  47510.726562  45835.964844  47343.542969   \n",
       "2022-01-04  45897.574219  47406.546875  45752.464844  46458.851562   \n",
       "2022-01-05  43569.003906  46929.046875  42798.222656  45899.359375   \n",
       "\n",
       "Price            Volume  \n",
       "Ticker          BTC-USD  \n",
       "Date                     \n",
       "2022-01-01  24582667004  \n",
       "2022-01-02  27951569547  \n",
       "2022-01-03  33071628362  \n",
       "2022-01-04  42494677905  \n",
       "2022-01-05  36851084859  "
      ]
     },
     "execution_count": 21,
     "metadata": {},
     "output_type": "execute_result"
    }
   ],
   "source": [
    "# Bitcoin database\n",
    "btc.head()"
   ]
  },
  {
   "cell_type": "code",
   "execution_count": 22,
   "id": "a66ba4ae-66fa-42ec-88e2-71fc27b608d7",
   "metadata": {},
   "outputs": [
    {
     "data": {
      "text/html": [
       "<div>\n",
       "<style scoped>\n",
       "    .dataframe tbody tr th:only-of-type {\n",
       "        vertical-align: middle;\n",
       "    }\n",
       "\n",
       "    .dataframe tbody tr th {\n",
       "        vertical-align: top;\n",
       "    }\n",
       "\n",
       "    .dataframe thead tr th {\n",
       "        text-align: left;\n",
       "    }\n",
       "\n",
       "    .dataframe thead tr:last-of-type th {\n",
       "        text-align: right;\n",
       "    }\n",
       "</style>\n",
       "<table border=\"1\" class=\"dataframe\">\n",
       "  <thead>\n",
       "    <tr>\n",
       "      <th>Price</th>\n",
       "      <th>Close</th>\n",
       "    </tr>\n",
       "    <tr>\n",
       "      <th>Ticker</th>\n",
       "      <th>BTC-USD</th>\n",
       "    </tr>\n",
       "    <tr>\n",
       "      <th>Date</th>\n",
       "      <th></th>\n",
       "    </tr>\n",
       "  </thead>\n",
       "  <tbody>\n",
       "    <tr>\n",
       "      <th>2022-01-01</th>\n",
       "      <td>47686.812500</td>\n",
       "    </tr>\n",
       "    <tr>\n",
       "      <th>2022-01-02</th>\n",
       "      <td>47345.218750</td>\n",
       "    </tr>\n",
       "    <tr>\n",
       "      <th>2022-01-03</th>\n",
       "      <td>46458.117188</td>\n",
       "    </tr>\n",
       "    <tr>\n",
       "      <th>2022-01-04</th>\n",
       "      <td>45897.574219</td>\n",
       "    </tr>\n",
       "    <tr>\n",
       "      <th>2022-01-05</th>\n",
       "      <td>43569.003906</td>\n",
       "    </tr>\n",
       "  </tbody>\n",
       "</table>\n",
       "</div>"
      ],
      "text/plain": [
       "Price              Close\n",
       "Ticker           BTC-USD\n",
       "Date                    \n",
       "2022-01-01  47686.812500\n",
       "2022-01-02  47345.218750\n",
       "2022-01-03  46458.117188\n",
       "2022-01-04  45897.574219\n",
       "2022-01-05  43569.003906"
      ]
     },
     "execution_count": 22,
     "metadata": {},
     "output_type": "execute_result"
    }
   ],
   "source": [
    "# Bitcoin closing price filtered database\n",
    "btc_close.head()"
   ]
  },
  {
   "cell_type": "code",
   "execution_count": 23,
   "id": "f712ff9b-a7a5-4b1e-b076-41b922edefe2",
   "metadata": {},
   "outputs": [
    {
     "name": "stdout",
     "output_type": "stream",
     "text": [
      "(790, 1)\n",
      "(790, 5)\n"
     ]
    }
   ],
   "source": [
    "print(btc_close.shape)\n",
    "print(btc.shape)"
   ]
  },
  {
   "cell_type": "code",
   "execution_count": 27,
   "id": "5a8ebf28-c6cc-48b0-9797-ca441e99ba7f",
   "metadata": {},
   "outputs": [
    {
     "data": {
      "text/plain": [
       "<bound method NDFrame.head of Price              Close unique_id\n",
       "Ticker           BTC-USD          \n",
       "Date                              \n",
       "2022-01-01  47686.812500       btc\n",
       "2022-01-02  47345.218750       btc\n",
       "2022-01-03  46458.117188       btc\n",
       "2022-01-04  45897.574219       btc\n",
       "2022-01-05  43569.003906       btc\n",
       "...                  ...       ...\n",
       "2024-02-25  51733.238281       btc\n",
       "2024-02-26  54522.402344       btc\n",
       "2024-02-27  57085.371094       btc\n",
       "2024-02-28  62504.789062       btc\n",
       "2024-02-29  61198.382812       btc\n",
       "\n",
       "[790 rows x 2 columns]>"
      ]
     },
     "execution_count": 27,
     "metadata": {},
     "output_type": "execute_result"
    }
   ],
   "source": [
    "btc_close[\"unique_id\"] = \"btc\"\n",
    "btc_close.head"
   ]
  },
  {
   "cell_type": "code",
   "execution_count": 11,
   "id": "67a315dc-8f9f-4284-bb86-4dbcb3ea5b5f",
   "metadata": {},
   "outputs": [],
   "source": [
    "# Select just the closing prices\n",
    "prices = btc['Close'].values.reshape(-1, 1)\n",
    "\n",
    "# Normalize prices (Min-Max scaling)\n",
    "from sklearn.preprocessing import MinMaxScaler\n",
    "scaler = MinMaxScaler()\n",
    "prices_scaled = scaler.fit_transform(prices).flatten()\n",
    "\n",
    "# Define context length\n",
    "context_length = 512\n",
    "\n",
    "# Ensure data is sufficient\n",
    "if len(prices) <= context_length:\n",
    "    raise ValueError(\"Data too short.\")\n",
    "\n",
    "# Prepare input tensor\n",
    "input_tensor = torch.tensor(\n",
    "    prices[-context_length:].reshape(1, context_length), dtype=torch.float32\n",
    ")"
   ]
  },
  {
   "cell_type": "code",
   "execution_count": 24,
   "id": "73fa2808-ee29-4539-8a73-d442ed8ee265",
   "metadata": {},
   "outputs": [
    {
     "ename": "AttributeError",
     "evalue": "'Tensor' object has no attribute 'columns'",
     "output_type": "error",
     "traceback": [
      "\u001b[31m---------------------------------------------------------------------------\u001b[39m",
      "\u001b[31mAttributeError\u001b[39m                            Traceback (most recent call last)",
      "\u001b[36mCell\u001b[39m\u001b[36m \u001b[39m\u001b[32mIn[24]\u001b[39m\u001b[32m, line 4\u001b[39m\n\u001b[32m      1\u001b[39m forecast_horizon = \u001b[32m64\u001b[39m\n\u001b[32m      3\u001b[39m \u001b[38;5;66;03m# Corrected forecast using the proper argument 'horizon'\u001b[39;00m\n\u001b[32m----> \u001b[39m\u001b[32m4\u001b[39m forecast_tensor = \u001b[43mtfm_one\u001b[49m\u001b[43m.\u001b[49m\u001b[43mforecast_on_df\u001b[49m\u001b[43m(\u001b[49m\n\u001b[32m      5\u001b[39m \u001b[43m    \u001b[49m\u001b[43minput_tensor\u001b[49m\u001b[43m,\u001b[49m\n\u001b[32m      6\u001b[39m \u001b[43m    \u001b[49m\u001b[43mfreq\u001b[49m\u001b[43m \u001b[49m\u001b[43m=\u001b[49m\u001b[43m \u001b[49m\u001b[33;43m\"\u001b[39;49m\u001b[33;43mD\u001b[39;49m\u001b[33;43m\"\u001b[39;49m\n\u001b[32m      7\u001b[39m \u001b[43m)\u001b[49m\n\u001b[32m      9\u001b[39m \u001b[38;5;66;03m# Convert forecast tensor to numpy array\u001b[39;00m\n\u001b[32m     10\u001b[39m forecast = forecast_tensor.detach().cpu().numpy().reshape(-\u001b[32m1\u001b[39m, \u001b[32m1\u001b[39m)\n",
      "\u001b[36mFile \u001b[39m\u001b[32m~/Library/Caches/pypoetry/virtualenvs/timesfm-crypto-RKvH06EY-py3.11/lib/python3.11/site-packages/timesfm/timesfm_base.py:664\u001b[39m, in \u001b[36mTimesFmBase.forecast_on_df\u001b[39m\u001b[34m(self, inputs, freq, forecast_context_len, value_name, model_name, window_size, num_jobs, normalize, verbose)\u001b[39m\n\u001b[32m    630\u001b[39m \u001b[38;5;28;01mdef\u001b[39;00m\u001b[38;5;250m \u001b[39m\u001b[34mforecast_on_df\u001b[39m(\n\u001b[32m    631\u001b[39m     \u001b[38;5;28mself\u001b[39m,\n\u001b[32m    632\u001b[39m     inputs: pd.DataFrame,\n\u001b[32m   (...)\u001b[39m\u001b[32m    640\u001b[39m     verbose: \u001b[38;5;28mbool\u001b[39m = \u001b[38;5;28;01mTrue\u001b[39;00m,\n\u001b[32m    641\u001b[39m ) -> pd.DataFrame:\n\u001b[32m    642\u001b[39m \u001b[38;5;250m  \u001b[39m\u001b[33;03m\"\"\"Forecasts on a list of time series.\u001b[39;00m\n\u001b[32m    643\u001b[39m \n\u001b[32m    644\u001b[39m \u001b[33;03m  Args:\u001b[39;00m\n\u001b[32m   (...)\u001b[39m\u001b[32m    662\u001b[39m \u001b[33;03m    Future forecasts dataframe.\u001b[39;00m\n\u001b[32m    663\u001b[39m \u001b[33;03m  \"\"\"\u001b[39;00m\n\u001b[32m--> \u001b[39m\u001b[32m664\u001b[39m   \u001b[38;5;28;01mif\u001b[39;00m \u001b[38;5;129;01mnot\u001b[39;00m (\u001b[33m\"\u001b[39m\u001b[33munique_id\u001b[39m\u001b[33m\"\u001b[39m \u001b[38;5;129;01min\u001b[39;00m \u001b[43minputs\u001b[49m\u001b[43m.\u001b[49m\u001b[43mcolumns\u001b[49m \u001b[38;5;129;01mand\u001b[39;00m \u001b[33m\"\u001b[39m\u001b[33mds\u001b[39m\u001b[33m\"\u001b[39m \u001b[38;5;129;01min\u001b[39;00m inputs.columns \u001b[38;5;129;01mand\u001b[39;00m\n\u001b[32m    665\u001b[39m           value_name \u001b[38;5;129;01min\u001b[39;00m inputs.columns):\n\u001b[32m    666\u001b[39m     \u001b[38;5;28;01mraise\u001b[39;00m \u001b[38;5;167;01mValueError\u001b[39;00m(\n\u001b[32m    667\u001b[39m         \u001b[33mf\u001b[39m\u001b[33m\"\u001b[39m\u001b[33mDataFrame must have unique_id, ds and \u001b[39m\u001b[38;5;132;01m{\u001b[39;00mvalue_name\u001b[38;5;132;01m}\u001b[39;00m\u001b[33m columns.\u001b[39m\u001b[33m\"\u001b[39m)\n\u001b[32m    668\u001b[39m   \u001b[38;5;28;01mif\u001b[39;00m \u001b[38;5;129;01mnot\u001b[39;00m forecast_context_len:\n",
      "\u001b[31mAttributeError\u001b[39m: 'Tensor' object has no attribute 'columns'"
     ]
    }
   ],
   "source": [
    "forecast_horizon = 64\n",
    "\n",
    "# Corrected forecast using the proper argument 'horizon'\n",
    "forecast_tensor = tfm_one.forecast_on_df(\n",
    "    input_tensor,\n",
    "    freq = \"D\"\n",
    ")\n",
    "\n",
    "# Convert forecast tensor to numpy array\n",
    "forecast = forecast_tensor.detach().cpu().numpy().reshape(-1, 1)\n",
    "print(type(forecast))\n",
    "\n",
    "# Inverse transform forecast to original scale\n",
    "forecast_prices = scaler.inverse_transform(forecast).flatten()"
   ]
  },
  {
   "cell_type": "code",
   "execution_count": null,
   "id": "d20e2d9e-317e-4e2f-96a3-8ec6b773a745",
   "metadata": {},
   "outputs": [],
   "source": []
  }
 ],
 "metadata": {
  "kernelspec": {
   "display_name": "Python 3 (ipykernel)",
   "language": "python",
   "name": "python3"
  },
  "language_info": {
   "codemirror_mode": {
    "name": "ipython",
    "version": 3
   },
   "file_extension": ".py",
   "mimetype": "text/x-python",
   "name": "python",
   "nbconvert_exporter": "python",
   "pygments_lexer": "ipython3",
   "version": "3.11.11"
  }
 },
 "nbformat": 4,
 "nbformat_minor": 5
}
